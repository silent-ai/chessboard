{
  "nbformat": 4,
  "nbformat_minor": 0,
  "metadata": {
    "colab": {
      "name": "image_scraper.ipynb",
      "provenance": [],
      "authorship_tag": "ABX9TyOFxm/EILFcnhQlFfhos+IM",
      "include_colab_link": true
    },
    "kernelspec": {
      "name": "python3",
      "display_name": "Python 3"
    }
  },
  "cells": [
    {
      "cell_type": "markdown",
      "metadata": {
        "id": "view-in-github",
        "colab_type": "text"
      },
      "source": [
        "<a href=\"https://colab.research.google.com/github/silent-ai/chessboard/blob/main/nbs/image_scraper.ipynb\" target=\"_parent\"><img src=\"https://colab.research.google.com/assets/colab-badge.svg\" alt=\"Open In Colab\"/></a>"
      ]
    },
    {
      "cell_type": "code",
      "metadata": {
        "id": "xolczg4tVtN4"
      },
      "source": [
        "!pip install Google-Images-Search > /etc/null"
      ],
      "execution_count": 79,
      "outputs": []
    },
    {
      "cell_type": "code",
      "metadata": {
        "id": "-U3iR_H8VuAr"
      },
      "source": [
        "from google_images_search import GoogleImagesSearch"
      ],
      "execution_count": 3,
      "outputs": []
    },
    {
      "cell_type": "code",
      "metadata": {
        "id": "w0HJNzdKV0Y_"
      },
      "source": [
        "gis = GoogleImagesSearch('API_KEY', 'SEARCH_KEY') # Don't push the keys to git\n",
        "\n",
        "# define search params:\n",
        "_search_params = {\n",
        "    'q': 'chessboard',\n",
        "    'num': 10,\n",
        "    'safe': 'off',\n",
        "    'fileType': 'jpg|gif|png',\n",
        "    'imgType': 'photo',\n",
        "    'imgSize': 'MEDIUM',\n",
        "    'rights': 'cc_publicdomain|cc_attribute|cc_sharealike|cc_noncommercial|cc_nonderived'\n",
        "}"
      ],
      "execution_count": 77,
      "outputs": []
    },
    {
      "cell_type": "code",
      "metadata": {
        "colab": {
          "base_uri": "https://localhost:8080/"
        },
        "id": "Y5qaEvXoWHD9",
        "outputId": "264c819d-82e6-4f5b-837f-1ae190fdf4ee"
      },
      "source": [
        "gis.search(search_params=_search_params)\n",
        "for image in gis.results():\n",
        "    print(image)\n",
        "    image.download('/content/images')"
      ],
      "execution_count": 78,
      "outputs": [
        {
          "output_type": "stream",
          "text": [
            "<google_images_search.fetch_resize_save.GSImage object at 0x7f0b33e73320>\n",
            "<google_images_search.fetch_resize_save.GSImage object at 0x7f0b33e73668>\n",
            "<google_images_search.fetch_resize_save.GSImage object at 0x7f0b33e987b8>\n",
            "<google_images_search.fetch_resize_save.GSImage object at 0x7f0b33e98518>\n",
            "<google_images_search.fetch_resize_save.GSImage object at 0x7f0b33e98400>\n",
            "<google_images_search.fetch_resize_save.GSImage object at 0x7f0b33e98dd8>\n",
            "<google_images_search.fetch_resize_save.GSImage object at 0x7f0b347c4cc0>\n",
            "<google_images_search.fetch_resize_save.GSImage object at 0x7f0b33e73400>\n",
            "<google_images_search.fetch_resize_save.GSImage object at 0x7f0b34712278>\n",
            "<google_images_search.fetch_resize_save.GSImage object at 0x7f0b34712dd8>\n"
          ],
          "name": "stdout"
        }
      ]
    }
  ]
}