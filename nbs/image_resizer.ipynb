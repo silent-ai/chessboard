{
 "cells": [
  {
   "cell_type": "markdown",
   "metadata": {},
   "source": [
    "### Select path to images (either already unzipped or a new directory)"
   ]
  },
  {
   "cell_type": "code",
   "execution_count": 45,
   "metadata": {},
   "outputs": [],
   "source": [
    "images = '/home/calum/Downloads/images/chess1/'"
   ]
  },
  {
   "cell_type": "markdown",
   "metadata": {},
   "source": [
    "\n",
    "#### [optional] extract from a zip"
   ]
  },
  {
   "cell_type": "code",
   "execution_count": 43,
   "metadata": {},
   "outputs": [],
   "source": [
    "file = '/home/calum/Downloads/task_amazon.zip'\n",
    "\n",
    "from zipfile import ZipFile as unzip\n",
    "with unzip(file, 'r') as ref: ref.extractall(images)"
   ]
  },
  {
   "cell_type": "markdown",
   "metadata": {},
   "source": [
    "### Run resize process"
   ]
  },
  {
   "cell_type": "code",
   "execution_count": 46,
   "metadata": {},
   "outputs": [],
   "source": [
    "from PIL import Image\n",
    "import os, sys\n",
    "\n",
    "dirs = os.listdir( images )\n",
    "\n",
    "def resize():\n",
    "    for item in dirs:\n",
    "        if os.path.isfile(images+item):\n",
    "            im = Image.open(images+item)\n",
    "            f, e = os.path.splitext(images+item)\n",
    "            print(f)\n",
    "            imResize = im.resize((im.width//2,im.height//2), Image.ANTIALIAS)\n",
    "            imResize.save(f + '_RESIZE.jpg', 'JPEG', quality=90)"
   ]
  },
  {
   "cell_type": "code",
   "execution_count": 47,
   "metadata": {},
   "outputs": [
    {
     "name": "stdout",
     "output_type": "stream",
     "text": [
      "/home/calum/Downloads/images/chess1/PXL_20201202_183857507_RESIZE\n",
      "/home/calum/Downloads/images/chess1/PXL_20201202_183844446_RESIZE\n",
      "/home/calum/Downloads/images/chess1/PXL_20201202_184115342_RESIZE\n",
      "/home/calum/Downloads/images/chess1/PXL_20201202_183933727_RESIZE\n",
      "/home/calum/Downloads/images/chess1/PXL_20201202_183837997_RESIZE\n",
      "/home/calum/Downloads/images/chess1/PXL_20201202_184058838_RESIZE\n",
      "/home/calum/Downloads/images/chess1/PXL_20201202_184109053_RESIZE\n",
      "/home/calum/Downloads/images/chess1/PXL_20201202_184006554_RESIZE\n",
      "/home/calum/Downloads/images/chess1/PXL_20201202_183925478_RESIZE\n",
      "/home/calum/Downloads/images/chess1/PXL_20201202_184106358_RESIZE\n",
      "/home/calum/Downloads/images/chess1/PXL_20201202_183957203_RESIZE\n",
      "/home/calum/Downloads/images/chess1/PXL_20201202_183925702_RESIZE\n",
      "/home/calum/Downloads/images/chess1/PXL_20201202_183847638_RESIZE\n",
      "/home/calum/Downloads/images/chess1/PXL_20201202_183910245_RESIZE\n",
      "/home/calum/Downloads/images/chess1/PXL_20201202_183904192_RESIZE\n",
      "/home/calum/Downloads/images/chess1/PXL_20201202_183829674_RESIZE\n",
      "/home/calum/Downloads/images/chess1/PXL_20201202_183907306_RESIZE\n",
      "/home/calum/Downloads/images/chess1/PXL_20201202_183938557_RESIZE\n",
      "/home/calum/Downloads/images/chess1/PXL_20201202_183852283_RESIZE\n",
      "/home/calum/Downloads/images/chess1/PXL_20201202_183846361_RESIZE\n",
      "/home/calum/Downloads/images/chess1/PXL_20201202_183859758_RESIZE\n",
      "/home/calum/Downloads/images/chess1/PXL_20201202_183905271_RESIZE\n",
      "/home/calum/Downloads/images/chess1/PXL_20201202_183914396_RESIZE\n",
      "/home/calum/Downloads/images/chess1/PXL_20201202_183944669_RESIZE\n",
      "/home/calum/Downloads/images/chess1/PXL_20201202_183833000_RESIZE\n",
      "/home/calum/Downloads/images/chess1/PXL_20201202_183951827.MP_RESIZE\n",
      "/home/calum/Downloads/images/chess1/PXL_20201202_183902097_RESIZE\n",
      "/home/calum/Downloads/images/chess1/PXL_20201202_183915951_RESIZE\n",
      "/home/calum/Downloads/images/chess1/PXL_20201202_183900643_RESIZE\n",
      "/home/calum/Downloads/images/chess1/PXL_20201202_183851175_RESIZE\n",
      "/home/calum/Downloads/images/chess1/PXL_20201202_183920317_RESIZE\n",
      "/home/calum/Downloads/images/chess1/PXL_20201202_183835982_RESIZE\n",
      "/home/calum/Downloads/images/chess1/PXL_20201202_183908852_RESIZE\n",
      "/home/calum/Downloads/images/chess1/PXL_20201202_183911727_RESIZE\n",
      "/home/calum/Downloads/images/chess1/PXL_20201202_183849957_RESIZE\n",
      "/home/calum/Downloads/images/chess1/PXL_20201202_183923710_RESIZE\n",
      "/home/calum/Downloads/images/chess1/PXL_20201202_183903255_RESIZE\n",
      "/home/calum/Downloads/images/chess1/PXL_20201202_183941959_RESIZE\n",
      "/home/calum/Downloads/images/chess1/PXL_20201202_183848726_RESIZE\n",
      "/home/calum/Downloads/images/chess1/PXL_20201202_183842725_RESIZE\n",
      "/home/calum/Downloads/images/chess1/PXL_20201202_183949020_RESIZE\n",
      "/home/calum/Downloads/images/chess1/PXL_20201202_183959144.MP_RESIZE\n",
      "/home/calum/Downloads/images/chess1/PXL_20201202_184103429_RESIZE\n",
      "/home/calum/Downloads/images/chess1/PXL_20201202_183921765_RESIZE\n",
      "/home/calum/Downloads/images/chess1/PXL_20201202_184001811_RESIZE\n",
      "/home/calum/Downloads/images/chess1/PXL_20201202_184004069_RESIZE\n"
     ]
    }
   ],
   "source": [
    "resize()"
   ]
  },
  {
   "cell_type": "markdown",
   "metadata": {},
   "source": [
    "### When ready you can delete the large images in the folder using the following command"
   ]
  },
  {
   "cell_type": "code",
   "execution_count": 50,
   "metadata": {},
   "outputs": [
    {
     "name": "stdout",
     "output_type": "stream",
     "text": [
      "/home/calum/Downloads/images/chess1/PXL_20201202_183857507_RESIZE.jpg\r\n",
      "/home/calum/Downloads/images/chess1/PXL_20201202_183844446_RESIZE.jpg\r\n",
      "/home/calum/Downloads/images/chess1/PXL_20201202_184115342_RESIZE.jpg\r\n",
      "/home/calum/Downloads/images/chess1/PXL_20201202_183933727_RESIZE.jpg\r\n",
      "/home/calum/Downloads/images/chess1/PXL_20201202_183837997_RESIZE.jpg\r\n",
      "/home/calum/Downloads/images/chess1/PXL_20201202_184058838_RESIZE.jpg\r\n",
      "/home/calum/Downloads/images/chess1/PXL_20201202_184109053_RESIZE.jpg\r\n",
      "/home/calum/Downloads/images/chess1/PXL_20201202_184006554_RESIZE.jpg\r\n",
      "/home/calum/Downloads/images/chess1/PXL_20201202_183925478_RESIZE.jpg\r\n",
      "/home/calum/Downloads/images/chess1/PXL_20201202_184106358_RESIZE.jpg\r\n",
      "/home/calum/Downloads/images/chess1/PXL_20201202_183957203_RESIZE.jpg\r\n",
      "/home/calum/Downloads/images/chess1/PXL_20201202_183925702_RESIZE.jpg\r\n",
      "/home/calum/Downloads/images/chess1/PXL_20201202_183847638_RESIZE.jpg\r\n",
      "/home/calum/Downloads/images/chess1/PXL_20201202_183910245_RESIZE.jpg\r\n",
      "/home/calum/Downloads/images/chess1/PXL_20201202_183904192_RESIZE.jpg\r\n",
      "/home/calum/Downloads/images/chess1/PXL_20201202_183829674_RESIZE.jpg\r\n",
      "/home/calum/Downloads/images/chess1/PXL_20201202_183907306_RESIZE.jpg\r\n",
      "/home/calum/Downloads/images/chess1/PXL_20201202_183938557_RESIZE.jpg\r\n",
      "/home/calum/Downloads/images/chess1/PXL_20201202_183852283_RESIZE.jpg\r\n",
      "/home/calum/Downloads/images/chess1/PXL_20201202_183846361_RESIZE.jpg\r\n",
      "/home/calum/Downloads/images/chess1/PXL_20201202_183859758_RESIZE.jpg\r\n",
      "/home/calum/Downloads/images/chess1/PXL_20201202_183905271_RESIZE.jpg\r\n",
      "/home/calum/Downloads/images/chess1/PXL_20201202_183914396_RESIZE.jpg\r\n",
      "/home/calum/Downloads/images/chess1/PXL_20201202_183944669_RESIZE.jpg\r\n",
      "/home/calum/Downloads/images/chess1/PXL_20201202_183833000_RESIZE.jpg\r\n",
      "/home/calum/Downloads/images/chess1/PXL_20201202_183951827.MP_RESIZE.jpg\r\n",
      "/home/calum/Downloads/images/chess1/PXL_20201202_183902097_RESIZE.jpg\r\n",
      "/home/calum/Downloads/images/chess1/PXL_20201202_183915951_RESIZE.jpg\r\n",
      "/home/calum/Downloads/images/chess1/PXL_20201202_183900643_RESIZE.jpg\r\n",
      "/home/calum/Downloads/images/chess1/PXL_20201202_183851175_RESIZE.jpg\r\n",
      "/home/calum/Downloads/images/chess1/PXL_20201202_183920317_RESIZE.jpg\r\n",
      "/home/calum/Downloads/images/chess1/PXL_20201202_183835982_RESIZE.jpg\r\n",
      "/home/calum/Downloads/images/chess1/PXL_20201202_183908852_RESIZE.jpg\r\n",
      "/home/calum/Downloads/images/chess1/PXL_20201202_183911727_RESIZE.jpg\r\n",
      "/home/calum/Downloads/images/chess1/PXL_20201202_183849957_RESIZE.jpg\r\n",
      "/home/calum/Downloads/images/chess1/PXL_20201202_183923710_RESIZE.jpg\r\n",
      "/home/calum/Downloads/images/chess1/PXL_20201202_183903255_RESIZE.jpg\r\n",
      "/home/calum/Downloads/images/chess1/PXL_20201202_183941959_RESIZE.jpg\r\n",
      "/home/calum/Downloads/images/chess1/PXL_20201202_183848726_RESIZE.jpg\r\n",
      "/home/calum/Downloads/images/chess1/PXL_20201202_183842725_RESIZE.jpg\r\n",
      "/home/calum/Downloads/images/chess1/PXL_20201202_183949020_RESIZE.jpg\r\n",
      "/home/calum/Downloads/images/chess1/PXL_20201202_183959144.MP_RESIZE.jpg\r\n",
      "/home/calum/Downloads/images/chess1/PXL_20201202_184103429_RESIZE.jpg\r\n",
      "/home/calum/Downloads/images/chess1/PXL_20201202_183921765_RESIZE.jpg\r\n",
      "/home/calum/Downloads/images/chess1/PXL_20201202_184001811_RESIZE.jpg\r\n",
      "/home/calum/Downloads/images/chess1/PXL_20201202_184004069_RESIZE.jpg\r\n"
     ]
    }
   ],
   "source": [
    "!find $images -maxdepth 1 -type f \\\n",
    "         -name '*.jpg' \\\n",
    "       ! -name '*_RESIZE.jpg' -print -delete"
   ]
  },
  {
   "cell_type": "markdown",
   "metadata": {},
   "source": [
    "Now zip it up - make sure you ¬"
   ]
  },
  {
   "cell_type": "code",
   "execution_count": null,
   "metadata": {},
   "outputs": [],
   "source": [
    "!zip -r [zip_name] $images"
   ]
  }
 ],
 "metadata": {
  "kernelspec": {
   "display_name": "Python 3",
   "language": "python",
   "name": "python3"
  },
  "language_info": {
   "codemirror_mode": {
    "name": "ipython",
    "version": 3
   },
   "file_extension": ".py",
   "mimetype": "text/x-python",
   "name": "python",
   "nbconvert_exporter": "python",
   "pygments_lexer": "ipython3",
   "version": "3.7.9"
  }
 },
 "nbformat": 4,
 "nbformat_minor": 4
}
