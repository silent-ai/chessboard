{
  "nbformat": 4,
  "nbformat_minor": 0,
  "metadata": {
    "accelerator": "GPU",
    "colab": {
      "name": "chessboard_detector.ipynb",
      "provenance": [],
      "collapsed_sections": [],
      "toc_visible": true,
      "include_colab_link": true
    },
    "kernelspec": {
      "display_name": "Python 3",
      "name": "python3"
    }
  },
  "cells": [
    {
      "cell_type": "markdown",
      "metadata": {
        "id": "view-in-github",
        "colab_type": "text"
      },
      "source": [
        "<a href=\"https://colab.research.google.com/github/silent-ai/chessboard/blob/main/nbs/chessboard_detector.ipynb\" target=\"_parent\"><img src=\"https://colab.research.google.com/assets/colab-badge.svg\" alt=\"Open In Colab\"/></a>"
      ]
    },
    {
      "cell_type": "code",
      "metadata": {
        "id": "VZpSmaP1oMgx",
        "colab": {
          "base_uri": "https://localhost:8080/"
        },
        "outputId": "c68fb2f6-9cb7-4c66-9495-1bb26edeff24"
      },
      "source": [
        "! [ -e /content ] && pip install -Uqq fastai  # upgrade fastai on colab\n",
        "! pip install fastai --upgrade > /dev/null"
      ],
      "execution_count": 1,
      "outputs": [
        {
          "output_type": "stream",
          "text": [
            "\u001b[?25l\r\u001b[K     |█▊                              | 10kB 21.9MB/s eta 0:00:01\r\u001b[K     |███▌                            | 20kB 28.7MB/s eta 0:00:01\r\u001b[K     |█████▏                          | 30kB 20.7MB/s eta 0:00:01\r\u001b[K     |███████                         | 40kB 20.4MB/s eta 0:00:01\r\u001b[K     |████████▋                       | 51kB 15.9MB/s eta 0:00:01\r\u001b[K     |██████████▍                     | 61kB 17.8MB/s eta 0:00:01\r\u001b[K     |████████████                    | 71kB 15.8MB/s eta 0:00:01\r\u001b[K     |█████████████▉                  | 81kB 16.0MB/s eta 0:00:01\r\u001b[K     |███████████████▋                | 92kB 15.5MB/s eta 0:00:01\r\u001b[K     |█████████████████▎              | 102kB 15.4MB/s eta 0:00:01\r\u001b[K     |███████████████████             | 112kB 15.4MB/s eta 0:00:01\r\u001b[K     |████████████████████▊           | 122kB 15.4MB/s eta 0:00:01\r\u001b[K     |██████████████████████▌         | 133kB 15.4MB/s eta 0:00:01\r\u001b[K     |████████████████████████▏       | 143kB 15.4MB/s eta 0:00:01\r\u001b[K     |██████████████████████████      | 153kB 15.4MB/s eta 0:00:01\r\u001b[K     |███████████████████████████▊    | 163kB 15.4MB/s eta 0:00:01\r\u001b[K     |█████████████████████████████▍  | 174kB 15.4MB/s eta 0:00:01\r\u001b[K     |███████████████████████████████▏| 184kB 15.4MB/s eta 0:00:01\r\u001b[K     |████████████████████████████████| 194kB 15.4MB/s \n",
            "\u001b[?25h\u001b[?25l\r\u001b[K     |██████▍                         | 10kB 24.4MB/s eta 0:00:01\r\u001b[K     |████████████▊                   | 20kB 30.1MB/s eta 0:00:01\r\u001b[K     |███████████████████▏            | 30kB 34.3MB/s eta 0:00:01\r\u001b[K     |█████████████████████████▌      | 40kB 37.4MB/s eta 0:00:01\r\u001b[K     |████████████████████████████████| 51kB 36.2MB/s eta 0:00:01\r\u001b[K     |████████████████████████████████| 61kB 10.0MB/s \n",
            "\u001b[?25h"
          ],
          "name": "stdout"
        }
      ]
    },
    {
      "cell_type": "code",
      "metadata": {
        "id": "PMitsgbGlmzJ"
      },
      "source": [
        "from fastai.vision.all import *"
      ],
      "execution_count": 2,
      "outputs": []
    },
    {
      "cell_type": "markdown",
      "metadata": {
        "id": "Jhsvyx2G-ib6"
      },
      "source": [
        "## Download data from github"
      ]
    },
    {
      "cell_type": "code",
      "metadata": {
        "id": "0nIbDjyZxdlA"
      },
      "source": [
        "from zipfile import ZipFile as unzip\n",
        "path = Path('data')\n",
        "\n",
        "#with unzip(download_data('https://tinyurl.com/silentai'), 'r') as ref:\n",
        " #   ref.extractall(path)"
      ],
      "execution_count": 3,
      "outputs": []
    },
    {
      "cell_type": "code",
      "metadata": {
        "id": "VHhRnXY2IYxP",
        "colab": {
          "base_uri": "https://localhost:8080/",
          "height": 17
        },
        "outputId": "d8dfc8c6-81a4-4f94-c7c3-e3bba050f2e2"
      },
      "source": [
        "with unzip(download_data('https://github.com/silent-ai/chessboard/blob/main/data/small_amazon.zip?raw=true'), 'r') as ref:\n",
        "    ref.extractall(path)"
      ],
      "execution_count": 4,
      "outputs": [
        {
          "output_type": "display_data",
          "data": {
            "text/html": [
              ""
            ],
            "text/plain": [
              "<IPython.core.display.HTML object>"
            ]
          },
          "metadata": {
            "tags": []
          }
        }
      ]
    },
    {
      "cell_type": "markdown",
      "metadata": {
        "id": "ecV47F9I-zn7"
      },
      "source": [
        "## Get annotations"
      ]
    },
    {
      "cell_type": "code",
      "metadata": {
        "id": "HyhlBWIz9P1O"
      },
      "source": [
        "import json\n",
        "with open(path/'annotations'/'instances_default.json') as f:\n",
        "  codes = json.load(f)"
      ],
      "execution_count": 5,
      "outputs": []
    },
    {
      "cell_type": "code",
      "metadata": {
        "id": "6qvxkkqsl4hY",
        "colab": {
          "base_uri": "https://localhost:8080/"
        },
        "outputId": "c5268d09-851e-41bb-df1c-9c6c249f1152"
      },
      "source": [
        "# Join the images to their label by id\n",
        "img = {img['id']: img['file_name'] for img in codes['images']}\n",
        "ann = {img['id']: img['segmentation'][0] for img in codes['annotations']}\n",
        "labels = {img[id]: list(zip(a[::2], a[1::2])) for id, a in ann.items()}\n",
        "\n",
        "# Grab the first example\n",
        "first(labels.items())"
      ],
      "execution_count": 6,
      "outputs": [
        {
          "output_type": "execute_result",
          "data": {
            "text/plain": [
              "('PXL_20201202_184115342_RESIZE.jpg',\n",
              " [(1031.89, 100.85), (685.6, 531.25), (925.34, 1086.42), (1424.43, 734.53)])"
            ]
          },
          "metadata": {
            "tags": []
          },
          "execution_count": 6
        }
      ]
    },
    {
      "cell_type": "code",
      "metadata": {
        "id": "hBizyfjXAE63"
      },
      "source": [
        "def get_label(f): return tensor(labels[f.name])"
      ],
      "execution_count": 7,
      "outputs": []
    },
    {
      "cell_type": "code",
      "metadata": {
        "id": "MhXOnyer_2Kr",
        "colab": {
          "base_uri": "https://localhost:8080/"
        },
        "outputId": "6cd37599-8e71-4650-b442-ef41aa7d89a2"
      },
      "source": [
        "get_label(path/'images'/'PXL_20201202_183829674_RESIZE.jpg')\n",
        "\n",
        "img_files = get_image_files(path)\n",
        "#def img2pose(x): return Path(f'{str(x)[:-7]}pose.txt')\n",
        "#img2pose(img_files[0])\n",
        "img_files[0]\n",
        "Image.open(img_files[0])"
      ],
      "execution_count": 22,
      "outputs": [
        {
          "output_type": "execute_result",
          "data": {
            "text/plain": [
              "<bound method Image.show of <PIL.JpegImagePlugin.JpegImageFile image mode=RGB size=2016x1134 at 0x7F70BDD2B438>>"
            ]
          },
          "metadata": {
            "tags": []
          },
          "execution_count": 22
        }
      ]
    },
    {
      "cell_type": "markdown",
      "metadata": {
        "id": "7kFvd6J7GbMB"
      },
      "source": [
        "## Datablock API"
      ]
    },
    {
      "cell_type": "code",
      "metadata": {
        "id": "yjKBpQ0BTfi-"
      },
      "source": [
        "biwi = DataBlock(\n",
        "    blocks=(ImageBlock, PointBlock),\n",
        "    get_items=get_image_files,\n",
        "    get_y=get_label,\n",
        "    #item_tfms=Resize(320),\n",
        "    batch_tfms=[Normalize.from_stats(*imagenet_stats)]\n",
        ")\n"
      ],
      "execution_count": 9,
      "outputs": []
    },
    {
      "cell_type": "code",
      "metadata": {
        "id": "D4QZfizmKo1D",
        "colab": {
          "base_uri": "https://localhost:8080/",
          "height": 333
        },
        "outputId": "b68be105-392c-4fb2-bba9-5edbf6647b3f"
      },
      "source": [
        "#imgs = get_image_files(path/'content/chessboard/data/chessboard_images')\n",
        "#def overwriter(fname): return 'chessboard'\n",
        "#lambda is like def but anonomous \n",
        "chess = DataBlock(\n",
        "    #TensorCategory(0) is type for Category\n",
        "    blocks=(ImageBlock, PointBlock),\n",
        "    get_items=get_image_files,\n",
        "    \n",
        "    #get image file output passed into overwriter call\n",
        "    #ML: x is input, y is label\n",
        "    get_y= get_label,\n",
        "    \n",
        "    #specify validation set\n",
        "    \n",
        "    #splitter=RandomSplitter(),\n",
        "\n",
        "    #specify item transformations\n",
        "    item_tfms=[Normalize.from_stats(*imagenet_stats)]\n",
        "    \n",
        ")\n",
        "chessboard_dls = chess.dataloaders(path)\n",
        "#chessboard_dls.show_batch()\n",
        "\n",
        "chesslearn = cnn_learner(chessboard_dls, resnet34)\n",
        "#n out is number of categories out \n",
        "#res34 is arch which has been pretrained already so has classifications like man, dog, frog\n",
        "\n",
        "chesslearn.lr_find()\n"
      ],
      "execution_count": 16,
      "outputs": [
        {
          "output_type": "stream",
          "text": [
            "Could not do one pass in your dataloader, there is something wrong in it\n"
          ],
          "name": "stdout"
        },
        {
          "output_type": "error",
          "ename": "ZeroDivisionError",
          "evalue": "ignored",
          "traceback": [
            "\u001b[0;31m---------------------------------------------------------------------------\u001b[0m",
            "\u001b[0;31mZeroDivisionError\u001b[0m                         Traceback (most recent call last)",
            "\u001b[0;32m<ipython-input-16-46b01728c139>\u001b[0m in \u001b[0;36m<module>\u001b[0;34m()\u001b[0m\n\u001b[1;32m     26\u001b[0m \u001b[0;31m#res34 is arch which has been pretrained already so has classifications like man, dog, frog\u001b[0m\u001b[0;34m\u001b[0m\u001b[0;34m\u001b[0m\u001b[0;34m\u001b[0m\u001b[0m\n\u001b[1;32m     27\u001b[0m \u001b[0;34m\u001b[0m\u001b[0m\n\u001b[0;32m---> 28\u001b[0;31m \u001b[0mchesslearn\u001b[0m\u001b[0;34m.\u001b[0m\u001b[0mlr_find\u001b[0m\u001b[0;34m(\u001b[0m\u001b[0;34m)\u001b[0m\u001b[0;34m\u001b[0m\u001b[0;34m\u001b[0m\u001b[0m\n\u001b[0m",
            "\u001b[0;32m/usr/local/lib/python3.6/dist-packages/fastai/callback/schedule.py\u001b[0m in \u001b[0;36mlr_find\u001b[0;34m(self, start_lr, end_lr, num_it, stop_div, show_plot, suggestions)\u001b[0m\n\u001b[1;32m    220\u001b[0m \u001b[0;32mdef\u001b[0m \u001b[0mlr_find\u001b[0m\u001b[0;34m(\u001b[0m\u001b[0mself\u001b[0m\u001b[0;34m:\u001b[0m\u001b[0mLearner\u001b[0m\u001b[0;34m,\u001b[0m \u001b[0mstart_lr\u001b[0m\u001b[0;34m=\u001b[0m\u001b[0;36m1e-7\u001b[0m\u001b[0;34m,\u001b[0m \u001b[0mend_lr\u001b[0m\u001b[0;34m=\u001b[0m\u001b[0;36m10\u001b[0m\u001b[0;34m,\u001b[0m \u001b[0mnum_it\u001b[0m\u001b[0;34m=\u001b[0m\u001b[0;36m100\u001b[0m\u001b[0;34m,\u001b[0m \u001b[0mstop_div\u001b[0m\u001b[0;34m=\u001b[0m\u001b[0;32mTrue\u001b[0m\u001b[0;34m,\u001b[0m \u001b[0mshow_plot\u001b[0m\u001b[0;34m=\u001b[0m\u001b[0;32mTrue\u001b[0m\u001b[0;34m,\u001b[0m \u001b[0msuggestions\u001b[0m\u001b[0;34m=\u001b[0m\u001b[0;32mTrue\u001b[0m\u001b[0;34m)\u001b[0m\u001b[0;34m:\u001b[0m\u001b[0;34m\u001b[0m\u001b[0;34m\u001b[0m\u001b[0m\n\u001b[1;32m    221\u001b[0m     \u001b[0;34m\"Launch a mock training to find a good learning rate, return lr_min, lr_steep if `suggestions` is True\"\u001b[0m\u001b[0;34m\u001b[0m\u001b[0;34m\u001b[0m\u001b[0m\n\u001b[0;32m--> 222\u001b[0;31m     \u001b[0mn_epoch\u001b[0m \u001b[0;34m=\u001b[0m \u001b[0mnum_it\u001b[0m\u001b[0;34m//\u001b[0m\u001b[0mlen\u001b[0m\u001b[0;34m(\u001b[0m\u001b[0mself\u001b[0m\u001b[0;34m.\u001b[0m\u001b[0mdls\u001b[0m\u001b[0;34m.\u001b[0m\u001b[0mtrain\u001b[0m\u001b[0;34m)\u001b[0m \u001b[0;34m+\u001b[0m \u001b[0;36m1\u001b[0m\u001b[0;34m\u001b[0m\u001b[0;34m\u001b[0m\u001b[0m\n\u001b[0m\u001b[1;32m    223\u001b[0m     \u001b[0mcb\u001b[0m\u001b[0;34m=\u001b[0m\u001b[0mLRFinder\u001b[0m\u001b[0;34m(\u001b[0m\u001b[0mstart_lr\u001b[0m\u001b[0;34m=\u001b[0m\u001b[0mstart_lr\u001b[0m\u001b[0;34m,\u001b[0m \u001b[0mend_lr\u001b[0m\u001b[0;34m=\u001b[0m\u001b[0mend_lr\u001b[0m\u001b[0;34m,\u001b[0m \u001b[0mnum_it\u001b[0m\u001b[0;34m=\u001b[0m\u001b[0mnum_it\u001b[0m\u001b[0;34m,\u001b[0m \u001b[0mstop_div\u001b[0m\u001b[0;34m=\u001b[0m\u001b[0mstop_div\u001b[0m\u001b[0;34m)\u001b[0m\u001b[0;34m\u001b[0m\u001b[0;34m\u001b[0m\u001b[0m\n\u001b[1;32m    224\u001b[0m     \u001b[0;32mwith\u001b[0m \u001b[0mself\u001b[0m\u001b[0;34m.\u001b[0m\u001b[0mno_logging\u001b[0m\u001b[0;34m(\u001b[0m\u001b[0;34m)\u001b[0m\u001b[0;34m:\u001b[0m \u001b[0mself\u001b[0m\u001b[0;34m.\u001b[0m\u001b[0mfit\u001b[0m\u001b[0;34m(\u001b[0m\u001b[0mn_epoch\u001b[0m\u001b[0;34m,\u001b[0m \u001b[0mcbs\u001b[0m\u001b[0;34m=\u001b[0m\u001b[0mcb\u001b[0m\u001b[0;34m)\u001b[0m\u001b[0;34m\u001b[0m\u001b[0;34m\u001b[0m\u001b[0m\n",
            "\u001b[0;31mZeroDivisionError\u001b[0m: integer division or modulo by zero"
          ]
        }
      ]
    },
    {
      "cell_type": "code",
      "metadata": {
        "id": "8wSvKh3_ThHe"
      },
      "source": [
        "dls = biwi.dataloaders(path/'content', bs=4)\n",
        "dls.show_batch(max_n=9, figsize=(8,6))"
      ],
      "execution_count": null,
      "outputs": []
    },
    {
      "cell_type": "markdown",
      "metadata": {
        "id": "Ju1WxgmKGhwf"
      },
      "source": [
        "## Train"
      ]
    },
    {
      "cell_type": "code",
      "metadata": {
        "id": "jVFDUpxrxsiH"
      },
      "source": [
        "learn = cnn_learner(dls, resnet18, y_range=(-1,1))"
      ],
      "execution_count": null,
      "outputs": []
    },
    {
      "cell_type": "code",
      "metadata": {
        "id": "hvugAHTP9JDz"
      },
      "source": [
        "learn.lr_find()"
      ],
      "execution_count": null,
      "outputs": []
    },
    {
      "cell_type": "code",
      "metadata": {
        "id": "ph97RDj49KWu"
      },
      "source": [
        "learn.fine_tune(3, 5e-2)"
      ],
      "execution_count": null,
      "outputs": []
    },
    {
      "cell_type": "code",
      "metadata": {
        "id": "SQdL-5rt9aeM"
      },
      "source": [
        "learn.show_results()"
      ],
      "execution_count": null,
      "outputs": []
    },
    {
      "cell_type": "code",
      "metadata": {
        "id": "huLMBw-n-aex"
      },
      "source": [
        ""
      ],
      "execution_count": null,
      "outputs": []
    }
  ]
}